{
  "cells": [
    {
      "cell_type": "markdown",
      "source": [
        "### GNNExplainer: Model Interpretability\n",
        "\n",
        "In this section, we use GNNExplainer to understand how our GNN model makes predictions by analyzing:\n",
        "1. Which node features are most important for predictions\n",
        "2. How these features reflect the global graph structure\n",
        "3. The relationship between node properties and model decisions\n",
        "\n",
        "This helps provide interpretability and insights into the model's decision-making process."
      ],
      "metadata": {
        "id": "V22MtUhuzYO3"
      }
    },
    {
      "cell_type": "code",
      "source": [
        "import matplotlib.pyplot as plt\n",
        "import seaborn as sns\n",
        "from torch_geometric.utils import to_edge_index\n",
        "\n",
        "# Convert SparseTensor to edge_index format\n",
        "edge_index, edge_attr = to_edge_index(data.adj_t)\n",
        "data.edge_index = edge_index\n",
        "data.edge_attr = edge_attr\n",
        "del edge_attr, edge_index"
      ],
      "metadata": {
        "id": "uU9p9Ygoe7hC"
      }
    },
    {
      "cell_type": "code", 
      "source": [
        "from torch_geometric.explain import Explainer, GNNExplainer\n",
        "import os\n",
        "os.makedirs('figs_tabs', exist_ok=True)\n",
        "\n",
        "# Setup the explainer\n",
        "explainer = Explainer(\n",
        "    model=best_model,\n",
        "    algorithm=GNNExplainer(epochs=50),\n",
        "    explanation_type='model',\n",
        "    node_mask_type='attributes',\n",
        "    edge_mask_type='object',\n",
        "    model_config=dict(\n",
        "        mode='multiclass_classification',\n",
        "        task_level='node',\n",
        "        return_type='log_probs',\n",
        "    ),\n",
        ")\n",
        "\n",
        "# Select node to explain\n",
        "node_index = 10\n",
        "explanation = explainer(data.x, data.edge_index, index=node_index)\n",
        "\n",
        "print(f'Generated explanations in {explanation.available_explanations}')\n",
        "\n",
        "# Create enhanced visualization\n",
        "plt.figure(figsize=(10, 6))\n",
        "sns.set_style(\"whitegrid\")\n",
        "\n",
        "# Get top-10 feature importances\n",
        "importances = explanation.node_mask[0]\n",
        "top_k = 10\n",
        "top_indices = importances.topk(top_k).indices\n",
        "top_values = importances[top_indices]\n",
        "\n",
        "# Create bar plot with improved styling\n",
        "bars = plt.bar(range(top_k), top_values.cpu().numpy())\n",
        "plt.xlabel('Feature Index', fontsize=12)\n",
        "plt.ylabel('Feature Importance Score', fontsize=12)\n",
        "plt.title('Top-10 Most Important Node Features for Prediction', fontsize=14, pad=20)\n",
        "\n",
        "# Add value labels on bars\n",
        "for bar in bars:\n",
        "    height = bar.get_height()\n",
        "    plt.text(bar.get_x() + bar.get_width()/2., height,\n",
        "             f'{height:.3f}',\n",
        "             ha='center', va='bottom')\n",
        "\n",
        "# Add grid for better readability\n",
        "plt.grid(True, axis='y', linestyle='--', alpha=0.7)\n",
        "plt.tight_layout()\n",
        "\n",
        "# Save enhanced plot\n",
        "path = 'figs_tabs/feature_importance.png'\n",
        "plt.savefig(path, dpi=300, bbox_inches='tight')\n",
        "print(f\"Enhanced feature importance plot saved to '{path}'\")\n",
        "\n",
        "# Print interpretation of results\n",
        "print(\"\\nFeature Importance Interpretation:\")\n",
        "print(\"--------------------------------\")\n",
        "print(\"1. Top Features: The plot shows the most influential node features that shape the model's predictions.\")\n",
        "print(\"2. Global Context: Higher importance scores indicate features that capture significant network patterns.\")\n",
        "print(\"3. Feature Roles: Features with larger bars have stronger influence on the node's classification.\")\n",
        "print(\"\\nPrediction Analysis for Node {}:\".format(node_index))\n",
        "print(\"--------------------------------\")\n",
        "pred_class = best_model(data.x, data.adj_t)[node_index].argmax().item()\n",
        "true_class = data.y[node_index].item()\n",
        "print(f\"Predicted Class: {pred_class}\")\n",
        "print(f\"True Class: {true_class}\")\n",
        "print(f\"Top Feature Index: {top_indices[0].item()} (Importance: {top_values[0]:.3f})\")"
      ],
      "metadata": {
        "id": "Lsyk5uSFzec7"
      }
    }
  ]
}
